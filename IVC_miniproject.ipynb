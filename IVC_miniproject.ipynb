{
  "nbformat": 4,
  "nbformat_minor": 0,
  "metadata": {
    "colab": {
      "name": "IVC_miniproject.ipynb",
      "provenance": [],
      "collapsed_sections": [],
      "include_colab_link": true
    },
    "kernelspec": {
      "display_name": "Python 3",
      "name": "python3"
    },
    "language_info": {
      "name": "python"
    },
    "accelerator": "GPU"
  },
  "cells": [
    {
      "cell_type": "markdown",
      "metadata": {
        "id": "view-in-github",
        "colab_type": "text"
      },
      "source": [
        "<a href=\"https://colab.research.google.com/github/ETSlime/GoogleColab/blob/IVC/IVC_miniproject.ipynb\" target=\"_parent\"><img src=\"https://colab.research.google.com/assets/colab-badge.svg\" alt=\"Open In Colab\"/></a>"
      ]
    },
    {
      "cell_type": "code",
      "metadata": {
        "colab": {
          "base_uri": "https://localhost:8080/"
        },
        "id": "YdgbNNVjVg5G",
        "outputId": "8b0559c1-749a-42ef-c9fb-d19ae6217368"
      },
      "source": [
        "from google.colab import drive\n",
        "drive.mount('/content/drive')"
      ],
      "execution_count": null,
      "outputs": [
        {
          "output_type": "stream",
          "name": "stdout",
          "text": [
            "Mounted at /content/drive\n"
          ]
        }
      ]
    },
    {
      "cell_type": "code",
      "metadata": {
        "colab": {
          "base_uri": "https://localhost:8080/",
          "height": 289
        },
        "id": "CXzQU4j1rhP3",
        "outputId": "a1ff23df-823f-436b-9e88-ce537192fc81"
      },
      "source": [
        "pip install dlib"
      ],
      "execution_count": null,
      "outputs": [
        {
          "name": "stdout",
          "output_type": "stream",
          "text": [
            "Collecting dlib\n",
            "  Downloading dlib-19.22.1.tar.gz (7.4 MB)\n",
            "\u001b[K     |████████████████████████████████| 7.4 MB 4.2 MB/s \n",
            "\u001b[?25hBuilding wheels for collected packages: dlib\n",
            "  Building wheel for dlib (setup.py) ... \u001b[?25l\u001b[?25hdone\n",
            "  Created wheel for dlib: filename=dlib-19.22.1-cp37-cp37m-linux_x86_64.whl size=4331364 sha256=24660a0cd26e5b4bee4cc11c15d91818d5222a05e4ab77bc692ee154a01f8f0c\n",
            "  Stored in directory: /root/.cache/pip/wheels/10/6f/db/ef0380a66d955f9caa81cff6027fb77c0b556568e0daace292\n",
            "Successfully built dlib\n",
            "Installing collected packages: dlib\n",
            "Successfully installed dlib-19.22.1\n"
          ]
        },
        {
          "data": {
            "application/vnd.colab-display-data+json": {
              "pip_warning": {
                "packages": [
                  "dlib"
                ]
              }
            }
          },
          "metadata": {},
          "output_type": "display_data"
        }
      ]
    },
    {
      "cell_type": "code",
      "metadata": {
        "colab": {
          "base_uri": "https://localhost:8080/",
          "height": 35
        },
        "id": "rN8aOkQ3Vj89",
        "outputId": "25986761-2870-4c3f-e579-771ad197c774"
      },
      "source": [
        "pwd"
      ],
      "execution_count": null,
      "outputs": [
        {
          "output_type": "execute_result",
          "data": {
            "application/vnd.google.colaboratory.intrinsic+json": {
              "type": "string"
            },
            "text/plain": [
              "'/content'"
            ]
          },
          "metadata": {},
          "execution_count": 3
        }
      ]
    },
    {
      "cell_type": "code",
      "metadata": {
        "colab": {
          "base_uri": "https://localhost:8080/"
        },
        "id": "Bqw1IjrjZS6t",
        "outputId": "79374bcc-3eb2-4c3b-b567-8276f83fe00b"
      },
      "source": [
        "cd drive/My Drive/IVC"
      ],
      "execution_count": null,
      "outputs": [
        {
          "output_type": "stream",
          "name": "stdout",
          "text": [
            "/content/drive/My Drive/IVC\n"
          ]
        }
      ]
    },
    {
      "cell_type": "markdown",
      "metadata": {
        "id": "NWRmpTeidMhI"
      },
      "source": [
        "# Import the modules"
      ]
    },
    {
      "cell_type": "code",
      "metadata": {
        "id": "gwJXM5q_bT8d"
      },
      "source": [
        "#general import\n",
        "import numpy as np\n",
        "import matplotlib.pyplot as plt\n",
        "import math\n",
        "import os\n",
        "import copy\n",
        "import pandas as pd\n",
        "from time import time\n",
        "from google.colab import files\n",
        "from datapath_utils import get_image_paths\n",
        "#SVM\n",
        "import cv2\n",
        "import dlib\n",
        "from sklearn.metrics import accuracy_score\n",
        "from sklearn.model_selection import train_test_split\n",
        "from sklearn import svm\n",
        "from sklearn.utils import shuffle\n",
        "from sklearn import preprocessing\n",
        "from skimage.feature import hog\n",
        "from skimage import data, exposure\n",
        "from utils import read_img, resize_img, rgb_to_gray\n",
        "#Resnet\n",
        "import torch\n",
        "import torch.nn as nn\n",
        "from PIL import Image\n",
        "from torchvision import datasets, models, transforms"
      ],
      "execution_count": null,
      "outputs": []
    },
    {
      "cell_type": "markdown",
      "metadata": {
        "id": "r3eMY1Twy9_D"
      },
      "source": [
        "# Load dataset"
      ]
    },
    {
      "cell_type": "code",
      "metadata": {
        "colab": {
          "resources": {
            "http://localhost:8080/nbextensions/google.colab/files.js": {
              "data": "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",
              "headers": [
                [
                  "content-type",
                  "application/javascript"
                ]
              ],
              "ok": true,
              "status": 200,
              "status_text": ""
            }
          },
          "base_uri": "https://localhost:8080/",
          "height": 41
        },
        "id": "72gCUDAIiylI",
        "outputId": "bc7528e5-e070-442d-b515-48cef173ce1c"
      },
      "source": [
        "uploaded = files.upload()\n",
        "\n",
        "for fn in uploaded.keys():\n",
        "  print('User uploaded file \"{name}\" with length {length} bytes'.format(\n",
        "      name=fn, length=len(uploaded[fn])))"
      ],
      "execution_count": null,
      "outputs": [
        {
          "data": {
            "text/html": [
              "\n",
              "     <input type=\"file\" id=\"files-73e4f3fd-f220-45d2-868c-f9ea21bac69a\" name=\"files[]\" multiple disabled\n",
              "        style=\"border:none\" />\n",
              "     <output id=\"result-73e4f3fd-f220-45d2-868c-f9ea21bac69a\">\n",
              "      Upload widget is only available when the cell has been executed in the\n",
              "      current browser session. Please rerun this cell to enable.\n",
              "      </output>\n",
              "      <script src=\"/nbextensions/google.colab/files.js\"></script> "
            ],
            "text/plain": [
              "<IPython.core.display.HTML object>"
            ]
          },
          "metadata": {},
          "output_type": "display_data"
        }
      ]
    },
    {
      "cell_type": "code",
      "metadata": {
        "id": "XJPsN16QzD1a"
      },
      "source": [
        "!unzip dataset.zip"
      ],
      "execution_count": null,
      "outputs": []
    },
    {
      "cell_type": "code",
      "metadata": {
        "id": "jAGyNUQBdgOm"
      },
      "source": [
        "DATA_PATH = 'dataset'\n",
        "IMAGE_CATEGORIES = [\n",
        "    'angry','disgust','fear',\n",
        "    'happy','neutral','sad','surprise'\n",
        "]\n",
        "train_image_paths, test_image_paths, train_labels, test_labels =\\\n",
        "    get_image_paths(DATA_PATH, IMAGE_CATEGORIES)"
      ],
      "execution_count": null,
      "outputs": []
    },
    {
      "cell_type": "code",
      "metadata": {
        "id": "s7patOavfWBY"
      },
      "source": [
        "train_image_paths, validation_image_paths, train_labels, validation_labels = train_test_split(\n",
        "    train_image_paths, train_labels, train_size = 0.75, test_size=0.25, random_state=0)"
      ],
      "execution_count": null,
      "outputs": []
    },
    {
      "cell_type": "code",
      "metadata": {
        "colab": {
          "base_uri": "https://localhost:8080/"
        },
        "id": "MRSt0agR1BDy",
        "outputId": "8e5caf0d-0bc6-4dcc-a1bd-e4797a3b1fc4"
      },
      "source": [
        "len(train_image_paths)"
      ],
      "execution_count": null,
      "outputs": [
        {
          "output_type": "execute_result",
          "data": {
            "text/plain": [
              "21531"
            ]
          },
          "metadata": {},
          "execution_count": 11
        }
      ]
    },
    {
      "cell_type": "code",
      "metadata": {
        "colab": {
          "base_uri": "https://localhost:8080/"
        },
        "id": "Sr8Upty9gYjO",
        "outputId": "355b8d6a-7233-434b-a48f-abf7bd8e9f56"
      },
      "source": [
        "#read one image to see its size\n",
        "img = cv2.imread(train_image_paths[0])\n",
        "img.shape"
      ],
      "execution_count": null,
      "outputs": [
        {
          "output_type": "execute_result",
          "data": {
            "text/plain": [
              "(48, 48, 3)"
            ]
          },
          "metadata": {},
          "execution_count": 9
        }
      ]
    },
    {
      "cell_type": "code",
      "metadata": {
        "id": "8K6VTB8kgyAI"
      },
      "source": [
        "shape_x = img.shape[0]\n",
        "shape_y = img.shape[1]"
      ],
      "execution_count": null,
      "outputs": []
    },
    {
      "cell_type": "code",
      "metadata": {
        "id": "e360-i1hKKs7"
      },
      "source": [
        "def load_img(img_path, step = 1000):\n",
        "  image_features = []\n",
        "  begin = 0\n",
        "  end = 0\n",
        "  n = math.floor(len(img_path)/step)\n",
        "  for i in range(n):\n",
        "   end = end + step\n",
        "   start_time = time()\n",
        "   for j in range(begin, end):\n",
        "     img = read_img(img_path[j])\n",
        "     image_features.append(img.flatten())\n",
        "   training_time = time() - start_time\n",
        "   #print(\"Number of image read : \", end)\n",
        "   #print(\"Time per 1000 image : \", training_time)\n",
        "   begin = begin + step\n",
        "  for i in range(end, len(img_path)):\n",
        "    img = read_img(img_path[j])\n",
        "    image_features.append(img.flatten())\n",
        "  return np.asarray(image_features)"
      ],
      "execution_count": null,
      "outputs": []
    },
    {
      "cell_type": "code",
      "metadata": {
        "id": "mXxI0BEVCppp"
      },
      "source": [
        "train_images = load_img(train_image_paths)\n",
        "validation_images = load_img(validation_image_paths)\n",
        "test_images = load_img(test_image_paths)"
      ],
      "execution_count": null,
      "outputs": []
    },
    {
      "cell_type": "code",
      "metadata": {
        "id": "aNLW-YMKtBDp"
      },
      "source": [
        "np.save('train_images.npy', train_images)\n",
        "np.save('validation_images.npy', validation_images)\n",
        "np.save('test_images.npy', test_images)"
      ],
      "execution_count": null,
      "outputs": []
    },
    {
      "cell_type": "code",
      "metadata": {
        "id": "uX4b-txYnveh"
      },
      "source": [
        "train_images = np.load('train_images.npy')\n",
        "validation_images = np.load('validation_images.npy')\n",
        "test_images = np.load('test_images.npy')"
      ],
      "execution_count": null,
      "outputs": []
    },
    {
      "cell_type": "code",
      "metadata": {
        "colab": {
          "base_uri": "https://localhost:8080/"
        },
        "id": "PQQ01odInyxe",
        "outputId": "7eed90e4-627b-4632-b16f-2b2fc25e9af2"
      },
      "source": [
        "print(\"Number of train image: \", train_images.shape[0])\n",
        "print(\"Number of validation image: \", validation_images.shape[0])\n",
        "print(\"Number of test image: \", test_images.shape[0])"
      ],
      "execution_count": null,
      "outputs": [
        {
          "output_type": "stream",
          "name": "stdout",
          "text": [
            "Number of train image:  21531\n",
            "Number of validation image:  7178\n",
            "Number of test image:  7178\n"
          ]
        }
      ]
    },
    {
      "cell_type": "markdown",
      "metadata": {
        "id": "WD9kSi6LzgW4"
      },
      "source": [
        "# ResNet-18"
      ]
    },
    {
      "cell_type": "code",
      "metadata": {
        "id": "zNFvcrZO3l5-"
      },
      "source": [
        "train_images = np.load('/content/drive/MyDrive/IVC/resnet train data/Training.npy')\n",
        "validation_images = np.load('/content/drive/MyDrive/IVC/resnet train data/Validation.npy')\n",
        "test_images = np.load('/content/drive/MyDrive/IVC/resnet train data/PublicTest.npy')"
      ],
      "execution_count": null,
      "outputs": []
    },
    {
      "cell_type": "code",
      "metadata": {
        "id": "_RhTXIwj7Vlg"
      },
      "source": [
        "print(\"Number of train image: \", train_images.shape[0])\n",
        "print(\"Number of validation image: \", validation_images.shape[0])\n",
        "print(\"Number of test image: \", test_images.shape[0])"
      ],
      "execution_count": null,
      "outputs": []
    },
    {
      "cell_type": "code",
      "metadata": {
        "id": "EdWLOTvBzmNr"
      },
      "source": [
        "torch.hub._validate_not_a_forked_repo=lambda a,b,c: True\n",
        "model = torch.hub.load('pytorch/vision:v0.10.0', 'resnet18', pretrained=True)"
      ],
      "execution_count": null,
      "outputs": []
    },
    {
      "cell_type": "code",
      "metadata": {
        "id": "J8zFbH9M6THt"
      },
      "source": [
        "le = preprocessing.LabelEncoder()\n",
        "# encode target labels\n",
        "train_labels_encode = le.fit(train_labels)\n",
        "train_labels_encode = train_labels_encode.transform(train_labels)\n",
        "\n",
        "validation_labels_encode = le.fit(validation_labels)\n",
        "validation_labels_encode = validation_labels_encode.transform(validation_labels)\n",
        "\n",
        "test_labels_encode = le.fit(test_labels)\n",
        "test_labels_encode = test_labels_encode.transform(test_labels)"
      ],
      "execution_count": null,
      "outputs": []
    },
    {
      "cell_type": "code",
      "metadata": {
        "id": "F-ShfGSEGijg"
      },
      "source": [
        "np.save('Training_labels.npy', train_labels_encode)\n",
        "np.save('Validation_labels.npy', validation_labels_encode)\n",
        "np.save('PublicTest_labels.npy', test_labels_encode)"
      ],
      "execution_count": null,
      "outputs": []
    },
    {
      "cell_type": "code",
      "metadata": {
        "id": "eYaJsM3NEeWi"
      },
      "source": [
        "train_labels_encode = np.load('/content/drive/MyDrive/IVC/resnet train data/Training_labels.npy')\n",
        "validation_labels_encode = np.load('/content/drive/MyDrive/IVC/resnet train data/Validation_labels.npy')\n",
        "test_labels_encode = np.load('/content/drive/MyDrive/IVC/resnet train data/PublicTest_labels.npy')"
      ],
      "execution_count": null,
      "outputs": []
    },
    {
      "cell_type": "code",
      "metadata": {
        "id": "03xECXdx8j5p"
      },
      "source": [
        "def eval_model(model, data_loader, criterion):\n",
        "    model.eval()\n",
        "    with torch.no_grad():\n",
        "        accuracy = 0\n",
        "        loss = 0\n",
        "        for data, labels in data_loader:\n",
        "            output = model(data)\n",
        "            _, preds = torch.max(output.data, 1)\n",
        "            equals = (preds == labels).cpu()\n",
        "            accuracy += torch.mean(equals.type(torch.FloatTensor)).item()\n",
        "            loss += criterion(output, labels).data.cpu()\n",
        "        return accuracy/len(data_loader), loss/len(data_loader)\n",
        "        \n",
        "def train_model(model, criterion, optimizer, data_loader, eval_loader, epochs=100):\n",
        "    model = model.to(device)\n",
        "    test_accuracy_history = []\n",
        "    test_loss_history = []\n",
        "    \n",
        "    for epoch in range(epochs):\n",
        "        start_time = time()\n",
        "        model.train()\n",
        "        for data, labels in data_loader:\n",
        "            optimizer.zero_grad()\n",
        "            output = model(data)\n",
        "            loss = criterion(output, labels)\n",
        "            loss.backward()\n",
        "            optimizer.step()\n",
        "        training_time = time() - start_time\n",
        "        #print('Number of epoch: ', epoch)\n",
        "        #print('Training time per epoch: ', training_time)\n",
        "            \n",
        "        accuracy, loss = eval_model(model, eval_loader, criterion)\n",
        "        #print('Accuracy: ', accuracy)\n",
        "        test_accuracy_history.append(accuracy)\n",
        "        test_loss_history.append(loss)\n",
        "    return test_accuracy_history, test_loss_history"
      ],
      "execution_count": null,
      "outputs": []
    },
    {
      "cell_type": "code",
      "metadata": {
        "id": "6YrF7xLB9EiD"
      },
      "source": [
        "def make_dataloader(data, labels, batch_size, shuffle):\n",
        "    images = data / 255.0\n",
        "    images = torch.FloatTensor(images.reshape(images.shape[0], 1, 48, 48)).to(device) # 1 color channel, 48x48 images\n",
        "    dataset = torch.utils.data.TensorDataset(images, torch.LongTensor(np.array(labels)).to(device))\n",
        "    return torch.utils.data.DataLoader(dataset=dataset, batch_size=batch_size, shuffle=shuffle)"
      ],
      "execution_count": null,
      "outputs": []
    },
    {
      "cell_type": "code",
      "metadata": {
        "id": "uw_bSCfmd0fM"
      },
      "source": [
        "#fine-tune\n",
        "fc_features = model.fc.in_features\n",
        "model.fc = nn.Linear(fc_features, len(IMAGE_CATEGORIES))\n",
        "model.conv1= nn.Conv2d(1, 64, kernel_size=(7,7), stride=(2,2), padding=(3,3),bias=False)"
      ],
      "execution_count": null,
      "outputs": []
    },
    {
      "cell_type": "code",
      "metadata": {
        "id": "46b-Ta9hGwQ5"
      },
      "source": [
        "# Setup the loss fxn\n",
        "criterion = nn.CrossEntropyLoss()\n",
        "device = torch.device('cuda:0' if torch.cuda.is_available() else 'cpu')\n",
        "model = model.to(device)\n",
        "optimizer = torch.optim.SGD(model.parameters(), lr=0.1)"
      ],
      "execution_count": null,
      "outputs": []
    },
    {
      "cell_type": "code",
      "metadata": {
        "id": "nSsjFInJ4YEN"
      },
      "source": [
        "train_loader = make_dataloader(train_images, train_labels_encode, 100, True)\n",
        "valid_loader = make_dataloader(validation_images, validation_labels_encode, 100, False)\n",
        "test_loader = make_dataloader(test_images, test_labels_encode, 100, False)"
      ],
      "execution_count": null,
      "outputs": []
    },
    {
      "cell_type": "code",
      "metadata": {
        "id": "zcKUTGW18Pvq"
      },
      "source": [
        "accuracy, loss = train_model(model, criterion, optimizer, train_loader, valid_loader, epochs=1)"
      ],
      "execution_count": null,
      "outputs": []
    },
    {
      "cell_type": "code",
      "metadata": {
        "id": "FFf-ajkLf1HJ"
      },
      "source": [
        "torch.save(model, 'ResNet18_model.pt')"
      ],
      "execution_count": null,
      "outputs": []
    },
    {
      "cell_type": "code",
      "metadata": {
        "id": "p1EWqNHAcREW"
      },
      "source": [
        "accuracy, loss = eval_model(model, test_loader, criterion)\n",
        "accuracy"
      ],
      "execution_count": null,
      "outputs": []
    },
    {
      "cell_type": "code",
      "metadata": {
        "id": "sDuxU_AvSOG1"
      },
      "source": [
        "lr = [1e-5, 1e-4, 1e-3, 1e-2, 1e-1]\n",
        "accuracy_test = []\n",
        "for lr in lr:\n",
        "  model = torch.hub.load('pytorch/vision:v0.10.0', 'resnet18', pretrained=True)\n",
        "  model.fc = nn.Linear(fc_features, len(IMAGE_CATEGORIES))\n",
        "  model.conv1= nn.Conv2d(1, 64, kernel_size=(7,7), stride=(2,2), padding=(3,3),bias=False)\n",
        "  optimizer = torch.optim.SGD(model.parameters(), lr=lr)\n",
        "  model = model.to(device)\n",
        "  train_model(model, criterion, optimizer, train_loader, valid_loader, epochs=100)\n",
        "  accuracy, loss = eval_model(model, test_loader, criterion)\n",
        "  print(\"Accuracy for lr=%f : %f\" %(lr,accuracy))\n",
        "  accuracy_test.append(accuracy)\n",
        "  "
      ],
      "execution_count": null,
      "outputs": []
    },
    {
      "cell_type": "code",
      "metadata": {
        "id": "SeRsO9vIFB_o"
      },
      "source": [
        "from sklearn.dummy import DummyClassifier\n",
        "from sklearn.metrics import confusion_matrix, log_loss\n",
        "\n",
        "baselines = ['uniform', 'most_frequent']\n",
        "fig, ax = plt.subplots(len(baselines), 1, figsize=(5.5,6))\n",
        "bl_loss = {}\n",
        "\n",
        "plt.savefig(\"Resnet.pdf\")\n",
        "for ii, baseline in enumerate(baselines):\n",
        "    category = []\n",
        "    plt.sca(ax[ii])\n",
        "    dummy_classifier = DummyClassifier(strategy=baseline).fit(test_images, test_labels_encode)\n",
        "    pred_proba = dummy_classifier.predict_proba(test_images)\n",
        "    for i in range(pred_proba.shape[0]):\n",
        "      category.append(np.random.choice(np.arange(pred_proba[i].size),p=pred_proba[i]))\n",
        "    equals = (category == test_labels_encode)\n",
        "    acc = equals.sum()/len(test_labels_encode)\n",
        "\n",
        "    plt.axhline(acc, label='{} baseline'.format(baseline), linestyle='--')\n",
        "    plt.scatter(lr, accuracy)\n",
        "    plt.xscale('log')\n",
        "    plt.xlabel('learning rate')\n",
        "    plt.ylabel('Accuracy on validation set')\n",
        "    plt.legend()\n",
        "plt.savefig(\"Resnet.pdf\")\n",
        "plt.suptitle('Facial expression classification')\n",
        "plt.tight_layout()\n",
        "plt.subplots_adjust(top=0.9)\n",
        "plt.savefig(\"Resnet.pdf\")\n",
        "plt.show()"
      ],
      "execution_count": null,
      "outputs": []
    },
    {
      "cell_type": "markdown",
      "metadata": {
        "id": "VDYyTKLNhx0i"
      },
      "source": [
        "# Robustness exploration"
      ]
    },
    {
      "cell_type": "code",
      "metadata": {
        "id": "LuuUpmh28xSl"
      },
      "source": [
        "model = torch.load('ResNet18_model.pt')"
      ],
      "execution_count": null,
      "outputs": []
    },
    {
      "cell_type": "markdown",
      "metadata": {
        "id": "yzdb5X_nBk-4"
      },
      "source": [
        "Gaussian pixel noise"
      ]
    },
    {
      "cell_type": "code",
      "metadata": {
        "id": "pHz28OrCBhfZ"
      },
      "source": [
        "num_of_test = 10\n",
        "accuracy_pixel_noise = []\n",
        "for i in range(num_of_test):\n",
        "  path = os.path.join('/content/drive/MyDrive/IVC/test data/Gaussian pixel noise/ResNet/Gaussian_noise_'+str(i*2)+'.npy')\n",
        "  gaussian_noise_image = np.load(path)\n",
        "  test_loader = make_dataloader(gaussian_noise_image, test_labels_encode, 100, True)\n",
        "  accuracy, loss = eval_model(model, test_loader, criterion)\n",
        "  accuracy_pixel_noise.append(accuracy)"
      ],
      "execution_count": null,
      "outputs": []
    },
    {
      "cell_type": "code",
      "metadata": {
        "colab": {
          "base_uri": "https://localhost:8080/"
        },
        "id": "8yyGbNWGNTOC",
        "outputId": "53324e76-d7ca-4753-8625-b1c8d18e9d77"
      },
      "source": [
        "accuracy_pixel_noise"
      ],
      "execution_count": null,
      "outputs": [
        {
          "output_type": "execute_result",
          "data": {
            "text/plain": [
              "[0.5725783473915524,\n",
              " 0.5719622468782796,\n",
              " 0.5703133857912488,\n",
              " 0.5707158111035824,\n",
              " 0.5678739291098382,\n",
              " 0.5633689446581734,\n",
              " 0.55249999753303,\n",
              " 0.5487286307745509,\n",
              " 0.5405947272148397,\n",
              " 0.5337499980297353]"
            ]
          },
          "metadata": {},
          "execution_count": 54
        }
      ]
    },
    {
      "cell_type": "code",
      "metadata": {
        "id": "WGH5PLLDHR-Z"
      },
      "source": [
        "np.save('accuracy_pixel_noise.npy',accuracy_pixel_noise)"
      ],
      "execution_count": null,
      "outputs": []
    },
    {
      "cell_type": "markdown",
      "metadata": {
        "id": "pnwLZMgMHgiB"
      },
      "source": [
        "Gaussian blurring"
      ]
    },
    {
      "cell_type": "code",
      "metadata": {
        "id": "rrpHUoeWh2Za"
      },
      "source": [
        "num_of_test = 10\n",
        "accuracy_gaussiong_blurring = []\n",
        "for i in range(num_of_test):\n",
        "  path = os.path.join('/content/drive/MyDrive/IVC/test data/Gaussian blurring/ResNet/Gaussian_blurring_'+str(i)+'.npy')\n",
        "  gaussian_blurring = np.load(path)\n",
        "  test_loader = make_dataloader(gaussian_blurring, test_labels_encode, 100, True)\n",
        "  accuracy, loss = eval_model(model, test_loader, criterion)\n",
        "  accuracy_gaussiong_blurring.append(accuracy)"
      ],
      "execution_count": null,
      "outputs": []
    },
    {
      "cell_type": "code",
      "metadata": {
        "colab": {
          "base_uri": "https://localhost:8080/"
        },
        "id": "Y2HZxIltNXR7",
        "outputId": "e7494bf9-6b6e-4815-e967-74edb64393a3"
      },
      "source": [
        "accuracy_gaussiong_blurring"
      ],
      "execution_count": null,
      "outputs": [
        {
          "output_type": "execute_result",
          "data": {
            "text/plain": [
              "[0.5727742136352592,\n",
              " 0.5463853292167187,\n",
              " 0.5045049807263745,\n",
              " 0.43821581163340145,\n",
              " 0.4106588280863232,\n",
              " 0.38075854691366356,\n",
              " 0.3554807708909114,\n",
              " 0.33177350730531746,\n",
              " 0.31532407572699916,\n",
              " 0.3023290615528822]"
            ]
          },
          "metadata": {},
          "execution_count": 55
        }
      ]
    },
    {
      "cell_type": "code",
      "metadata": {
        "id": "RlA_zE0BLoi6"
      },
      "source": [
        "np.save('accuracy_gaussiong_blurring.npy',accuracy_gaussiong_blurring)"
      ],
      "execution_count": null,
      "outputs": []
    },
    {
      "cell_type": "markdown",
      "metadata": {
        "id": "Xe4Gwz__IVUB"
      },
      "source": [
        "Image Brightness Decrease"
      ]
    },
    {
      "cell_type": "code",
      "metadata": {
        "id": "aPwJB9nYIYoy"
      },
      "source": [
        "num_of_test = 10\n",
        "accuracy_brightness_decrease = []\n",
        "for i in range(num_of_test):\n",
        "  path = os.path.join('/content/drive/MyDrive/IVC/test data/Image Brightness Decrease/ResNet/Image_Brightness_-'+str(i*5)+'.npy')\n",
        "  brightness_decrease = np.load(path)\n",
        "  test_loader = make_dataloader(brightness_decrease, test_labels_encode, 100, True)\n",
        "  accuracy, loss = eval_model(model, test_loader, criterion)\n",
        "  accuracy_brightness_decrease.append(accuracy)"
      ],
      "execution_count": null,
      "outputs": []
    },
    {
      "cell_type": "code",
      "metadata": {
        "colab": {
          "base_uri": "https://localhost:8080/"
        },
        "id": "-YFqGu7NNZR6",
        "outputId": "2e1b9bf8-ef52-44c5-b93a-5c5c1556b0b5"
      },
      "source": [
        "accuracy_brightness_decrease"
      ],
      "execution_count": null,
      "outputs": [
        {
          "output_type": "execute_result",
          "data": {
            "text/plain": [
              "[0.5726175213025676,\n",
              " 0.5733119654986594,\n",
              " 0.5709472931921482,\n",
              " 0.5718803397483296,\n",
              " 0.5667022752265135,\n",
              " 0.564419514603085,\n",
              " 0.5608084040383498,\n",
              " 0.5574572620292505,\n",
              " 0.5498183717330297,\n",
              " 0.543511390272114]"
            ]
          },
          "metadata": {},
          "execution_count": 56
        }
      ]
    },
    {
      "cell_type": "code",
      "metadata": {
        "id": "lipOnalhLrxa"
      },
      "source": [
        "np.save('accuracy_brightness_decrease.npy',accuracy_brightness_decrease)"
      ],
      "execution_count": null,
      "outputs": []
    },
    {
      "cell_type": "markdown",
      "metadata": {
        "id": "CIB_-_WAI1NK"
      },
      "source": [
        "Image Brightness Increase"
      ]
    },
    {
      "cell_type": "code",
      "metadata": {
        "id": "FGfp75j4I472"
      },
      "source": [
        "num_of_test = 10\n",
        "accuracy_brightness_increase = []\n",
        "for i in range(num_of_test):\n",
        "  path = os.path.join('/content/drive/MyDrive/IVC/test data/Image Brightness Increase/ResNet/Image_Brightness_'+str(i*5)+'.npy')\n",
        "  brightness_increase = np.load(path)\n",
        "  test_loader = make_dataloader(brightness_increase, test_labels_encode, 100, True)\n",
        "  accuracy, loss = eval_model(model, test_loader, criterion)\n",
        "  accuracy_brightness_increase.append(accuracy)"
      ],
      "execution_count": null,
      "outputs": []
    },
    {
      "cell_type": "code",
      "metadata": {
        "colab": {
          "base_uri": "https://localhost:8080/"
        },
        "id": "edeIgAmHNPdj",
        "outputId": "4a4e0bca-6cad-4fee-ac65-f11d90b7750b"
      },
      "source": [
        "accuracy_brightness_increase"
      ],
      "execution_count": null,
      "outputs": [
        {
          "output_type": "execute_result",
          "data": {
            "text/plain": [
              "[0.5729309084514776,\n",
              " 0.5719017059438758,\n",
              " 0.5688283468286196,\n",
              " 0.5650997145308388,\n",
              " 0.5669800543950664,\n",
              " 0.5622400293747584,\n",
              " 0.5600997143321567,\n",
              " 0.5536858960986137,\n",
              " 0.5469230736295382,\n",
              " 0.538368941595157]"
            ]
          },
          "metadata": {},
          "execution_count": 53
        }
      ]
    },
    {
      "cell_type": "code",
      "metadata": {
        "id": "8vWLT1P4Ltqz"
      },
      "source": [
        "np.save('accuracy_brightness_increase.npy',accuracy_brightness_increase)"
      ],
      "execution_count": null,
      "outputs": []
    },
    {
      "cell_type": "markdown",
      "metadata": {
        "id": "LBRLa3JGJHMb"
      },
      "source": [
        "Image Contrast Decrease"
      ]
    },
    {
      "cell_type": "code",
      "metadata": {
        "id": "yscJGppIJLB7"
      },
      "source": [
        "num_of_test = 10\n",
        "accuracy_contrast_decrease = []\n",
        "for i in range(num_of_test):\n",
        "  path = os.path.join('/content/drive/MyDrive/IVC/test data/Image Contrast Decrease/ResNet/Image_Contrast_'+str(round(1.1-(i+1)*0.1,2))+'.npy')\n",
        "  contrast_decrease = np.load(path)\n",
        "  test_loader = make_dataloader(contrast_decrease, test_labels_encode, 100, True)\n",
        "  accuracy, loss = eval_model(model, test_loader, criterion)\n",
        "  accuracy_contrast_decrease.append(accuracy)"
      ],
      "execution_count": null,
      "outputs": []
    },
    {
      "cell_type": "code",
      "metadata": {
        "colab": {
          "base_uri": "https://localhost:8080/"
        },
        "id": "mf0_bNCJNNPS",
        "outputId": "b879cc24-ecc4-4f1f-ae20-a7e00541141b"
      },
      "source": [
        "accuracy_contrast_decrease"
      ],
      "execution_count": null,
      "outputs": [
        {
          "output_type": "execute_result",
          "data": {
            "text/plain": [
              "[0.5726566943857405,\n",
              " 0.5702564083039761,\n",
              " 0.556862533920341,\n",
              " 0.5433084016872777,\n",
              " 0.5164672318432066,\n",
              " 0.4842272036605411,\n",
              " 0.40305911459856564,\n",
              " 0.3267521384275622,\n",
              " 0.21534900243083635,\n",
              " 0.13281339106874335]"
            ]
          },
          "metadata": {},
          "execution_count": 65
        }
      ]
    },
    {
      "cell_type": "code",
      "metadata": {
        "id": "nU5TA3s3Lvb6"
      },
      "source": [
        "np.save('accuracy_contrast_decrease.npy',accuracy_contrast_decrease)"
      ],
      "execution_count": null,
      "outputs": []
    },
    {
      "cell_type": "markdown",
      "metadata": {
        "id": "wX7C5DnaJZ3K"
      },
      "source": [
        "Image Contrast Increase"
      ]
    },
    {
      "cell_type": "code",
      "metadata": {
        "id": "xiyBMMWgJgKa"
      },
      "source": [
        "num_of_test = 10\n",
        "accuracy_contrast_increase = []\n",
        "for i in range(num_of_test):\n",
        "  path = os.path.join('/content/drive/MyDrive/IVC/test data/Image Contrast Increase/ResNet/Image_Contrast_'+str(1+i*0.03)+'.npy')\n",
        "  contrast_increase = np.load(path)\n",
        "  test_loader = make_dataloader(contrast_increase, test_labels_encode, 100, True)\n",
        "  accuracy, loss = eval_model(model, test_loader, criterion)\n",
        "  accuracy_contrast_increase.append(accuracy)"
      ],
      "execution_count": null,
      "outputs": []
    },
    {
      "cell_type": "code",
      "metadata": {
        "colab": {
          "base_uri": "https://localhost:8080/"
        },
        "id": "mxRF_9zLOzEK",
        "outputId": "b55ff59e-45cd-4848-ee0c-b3bcb61075f4"
      },
      "source": [
        "accuracy_contrast_increase"
      ],
      "execution_count": null,
      "outputs": [
        {
          "output_type": "execute_result",
          "data": {
            "text/plain": [
              "[0.5729309059679508,\n",
              " 0.5727528445422649,\n",
              " 0.5692022736701701,\n",
              " 0.5667058395014869,\n",
              " 0.5652955840859148,\n",
              " 0.5637250691652298,\n",
              " 0.5612464377449619,\n",
              " 0.5569230752686659,\n",
              " 0.5520014216502508,\n",
              " 0.54666310424606]"
            ]
          },
          "metadata": {},
          "execution_count": 68
        }
      ]
    },
    {
      "cell_type": "code",
      "metadata": {
        "id": "UW9ibmA3LxYz"
      },
      "source": [
        "np.save('accuracy_contrast_increase.npy',accuracy_contrast_increase)"
      ],
      "execution_count": null,
      "outputs": []
    },
    {
      "cell_type": "markdown",
      "metadata": {
        "id": "Dia0hPs3J-Sy"
      },
      "source": [
        "Occlusion of the Image Increase"
      ]
    },
    {
      "cell_type": "code",
      "metadata": {
        "id": "06mLvKP0J9mq"
      },
      "source": [
        "num_of_test = 10\n",
        "accuracy_occlusion = []\n",
        "for i in range(num_of_test):\n",
        "  path = os.path.join('/content/drive/MyDrive/IVC/test data/Occlusion of the Image Increase/ResNet/Occlusion_'+str(i*5)+'.npy')\n",
        "  occlusion = np.load(path)\n",
        "  test_loader = make_dataloader(occlusion, test_labels_encode, 100, True)\n",
        "  accuracy, loss = eval_model(model, test_loader, criterion)\n",
        "  accuracy_occlusion.append(accuracy)"
      ],
      "execution_count": null,
      "outputs": []
    },
    {
      "cell_type": "code",
      "metadata": {
        "colab": {
          "base_uri": "https://localhost:8080/"
        },
        "id": "RP8G8QFNO66U",
        "outputId": "b852c865-5b52-4a33-b98c-68e7ba921b57"
      },
      "source": [
        "accuracy_occlusion"
      ],
      "execution_count": null,
      "outputs": [
        {
          "output_type": "execute_result",
          "data": {
            "text/plain": [
              "[0.5727350405520863,\n",
              " 0.5143447261717584,\n",
              " 0.46724358739124405,\n",
              " 0.39115384593605995,\n",
              " 0.3167913129760159,\n",
              " 0.25776353230079013,\n",
              " 0.20856125383741325,\n",
              " 0.18465455880181658,\n",
              " 0.16559116857954198,\n",
              " 0.14995370318906176]"
            ]
          },
          "metadata": {},
          "execution_count": 70
        }
      ]
    },
    {
      "cell_type": "code",
      "metadata": {
        "id": "Ki-Ck9voLzrq"
      },
      "source": [
        "np.save('accuracy_occlusion.npy',accuracy_occlusion)"
      ],
      "execution_count": null,
      "outputs": []
    },
    {
      "cell_type": "markdown",
      "metadata": {
        "id": "MSgDsQRCKrtb"
      },
      "source": [
        "Salt and Pepper Noise"
      ]
    },
    {
      "cell_type": "code",
      "metadata": {
        "id": "9qUSpT1cKrBc"
      },
      "source": [
        "num_of_test = 10\n",
        "accuracy_salt_and_pepper = []\n",
        "for i in range(num_of_test):\n",
        "  path = os.path.join('/content/drive/MyDrive/IVC/test data/Salt and Pepper Noise/ResNet/Salt_and_Pepper_'+str(i*0.02)+'.npy')\n",
        "  salt_and_pepper = np.load(path)\n",
        "  test_loader = make_dataloader(salt_and_pepper, test_labels_encode, 100, True)\n",
        "  accuracy, loss = eval_model(model, test_loader, criterion)\n",
        "  accuracy_salt_and_pepper.append(accuracy)"
      ],
      "execution_count": null,
      "outputs": []
    },
    {
      "cell_type": "code",
      "metadata": {
        "colab": {
          "base_uri": "https://localhost:8080/"
        },
        "id": "qv3jKmlsPCI0",
        "outputId": "6b6e7a43-5a3e-4f0c-8f4c-16b4aea11245"
      },
      "source": [
        "accuracy_salt_and_pepper"
      ],
      "execution_count": null,
      "outputs": [
        {
          "output_type": "execute_result",
          "data": {
            "text/plain": [
              "[0.5726958658132288,\n",
              " 0.5129344715840287,\n",
              " 0.4882941573030419,\n",
              " 0.5024750671452947,\n",
              " 0.49970441146029365,\n",
              " 0.4603632431891229,\n",
              " 0.45886752009391785,\n",
              " 0.4616880292693774,\n",
              " 0.4500427328877979,\n",
              " 0.4336538430717256]"
            ]
          },
          "metadata": {},
          "execution_count": 72
        }
      ]
    },
    {
      "cell_type": "code",
      "metadata": {
        "id": "gtoF72eWL1l6"
      },
      "source": [
        "np.save('accuracy_salt_and_pepper.npy',accuracy_salt_and_pepper)"
      ],
      "execution_count": null,
      "outputs": []
    },
    {
      "cell_type": "markdown",
      "metadata": {
        "id": "dOiul_MDzgdS"
      },
      "source": [
        "# SVM"
      ]
    },
    {
      "cell_type": "code",
      "metadata": {
        "id": "tEWJkj191DwO"
      },
      "source": [
        "detector = dlib.get_frontal_face_detector()\n",
        "predictor = dlib.shape_predictor('shape_predictor_68_face_landmarks.dat')"
      ],
      "execution_count": null,
      "outputs": []
    },
    {
      "cell_type": "code",
      "metadata": {
        "colab": {
          "base_uri": "https://localhost:8080/",
          "height": 250
        },
        "id": "-8M-BuHXDpQu",
        "outputId": "4c338ffe-8dbd-456e-cf7e-b30297385e9e"
      },
      "source": [
        "#hyperparameters\n",
        "shape_x = 48\n",
        "shape_y = 48\n",
        "ORIENTATIONS = 8\n",
        "PIXES_PER_CELL = (16, 16)\n",
        "CELLS_PER_BLOCK = (3, 3)\n",
        "\n",
        "features, hog_image = hog(\n",
        "    img,\n",
        "    orientations = ORIENTATIONS,\n",
        "    pixels_per_cell = PIXES_PER_CELL,\n",
        "    cells_per_block = CELLS_PER_BLOCK,\n",
        "    visualize = True\n",
        ")\n",
        "\n",
        "fig, (ax1, ax2) = plt.subplots(1, 2, figsize=(8, 4), sharex=True, sharey=True)\n",
        "\n",
        "ax1.axis('off')\n",
        "ax1.imshow(img, cmap=plt.cm.gray)\n",
        "ax1.set_title('Input image')\n",
        "\n",
        "# Rescale histogram for better display\n",
        "hog_image_rescaled = exposure.rescale_intensity(hog_image, in_range=(0, 10))\n",
        "\n",
        "ax2.axis('off')\n",
        "ax2.imshow(hog_image_rescaled, cmap=plt.cm.gray)\n",
        "ax2.set_title('Histogram of Oriented Gradients')\n",
        "plt.show()"
      ],
      "execution_count": null,
      "outputs": [
        {
          "output_type": "display_data",
          "data": {
            "image/png": "[encoded data removed]",
            "text/plain": [
              "<Figure size 576x288 with 2 Axes>"
            ]
          },
          "metadata": {
            "needs_background": "light"
          }
        }
      ]
    },
    {
      "cell_type": "code",
      "metadata": {
        "id": "acfcDRLinXbV"
      },
      "source": [
        "landmarks = np.array([x.flatten() for x in landmarks])\n",
        "landmarks.shape"
      ],
      "execution_count": null,
      "outputs": []
    },
    {
      "cell_type": "code",
      "metadata": {
        "id": "uiijJ7MefUt6"
      },
      "source": [
        "train_hog_features = []\n",
        "train_hog_images = []\n",
        "\n",
        "for i in range(len(train_images)):\n",
        "  img = train_images[i].reshape((shape_x, shape_y))\n",
        "  features, hog_image = hog(\n",
        "      img,\n",
        "      orientations = ORIENTATIONS,\n",
        "      pixels_per_cell = PIXES_PER_CELL,\n",
        "      cells_per_block = CELLS_PER_BLOCK,\n",
        "      visualize = True)\n",
        "  train_hog_features.append(features)\n",
        "  train_hog_images.append(hog_image)\n",
        "\n"
      ],
      "execution_count": null,
      "outputs": []
    },
    {
      "cell_type": "code",
      "metadata": {
        "id": "r3SCh_HqnZGe"
      },
      "source": [
        ""
      ],
      "execution_count": null,
      "outputs": []
    },
    {
      "cell_type": "code",
      "metadata": {
        "id": "GX4mZS4fvAjX"
      },
      "source": [
        "validation_hog_features = []\n",
        "validation_hog_images = []\n",
        "\n",
        "for i in range(len(validation_images)):\n",
        "  img = validation_images[i].reshape((shape_x, shape_y))\n",
        "  features, hog_image = hog(\n",
        "      img,\n",
        "      orientations = ORIENTATIONS,\n",
        "      pixels_per_cell = PIXES_PER_CELL,\n",
        "      cells_per_block = CELLS_PER_BLOCK,\n",
        "      visualize = True)\n",
        "  validation_hog_features.append(features)\n",
        "  validation_hog_images.append(hog_image)"
      ],
      "execution_count": null,
      "outputs": []
    },
    {
      "cell_type": "code",
      "metadata": {
        "id": "hVnxKrB70EC2"
      },
      "source": [
        "test_hog_features = []\n",
        "test_hog_images = []\n",
        "\n",
        "for i in range(len(test_images)):\n",
        "  img = test_images[i].reshape((shape_x, shape_y))\n",
        "  features, hog_image = hog(\n",
        "      img,\n",
        "      orientations = ORIENTATIONS,\n",
        "      pixels_per_cell = PIXES_PER_CELL,\n",
        "      cells_per_block = CELLS_PER_BLOCK,\n",
        "      visualize = True)\n",
        "  test_hog_features.append(features)\n",
        "  test_hog_images.append(hog_image)"
      ],
      "execution_count": null,
      "outputs": []
    },
    {
      "cell_type": "code",
      "metadata": {
        "id": "3jAmyVTAB8RT",
        "colab": {
          "base_uri": "https://localhost:8080/"
        },
        "outputId": "d3559556-5907-44b2-9b1b-32604f195146"
      },
      "source": [
        "model = svm.SVC(decision_function_shape='ovo', random_state=42, max_iter=10000, kernel='rbf',gamma='auto')\n",
        "model.fit(validation_hog_features,validation_labels)"
      ],
      "execution_count": null,
      "outputs": [
        {
          "output_type": "execute_result",
          "data": {
            "text/plain": [
              "SVC(C=1.0, break_ties=False, cache_size=200, class_weight=None, coef0=0.0,\n",
              "    decision_function_shape='ovo', degree=3, gamma='auto', kernel='rbf',\n",
              "    max_iter=10000, probability=False, random_state=42, shrinking=True,\n",
              "    tol=0.001, verbose=False)"
            ]
          },
          "metadata": {},
          "execution_count": 30
        }
      ]
    },
    {
      "cell_type": "code",
      "metadata": {
        "id": "kWTOezdFzLSE",
        "colab": {
          "base_uri": "https://localhost:8080/"
        },
        "outputId": "b035901d-d775-4cb8-c27e-1624c1775c30"
      },
      "source": [
        "y_pred = model.predict(test_hog_features)\n",
        "accuracy_hog = accuracy_score(y_pred, test_labels)\n",
        "print(\"Accuracy : \", accuracy_hog)"
      ],
      "execution_count": null,
      "outputs": [
        {
          "output_type": "stream",
          "name": "stdout",
          "text": [
            "Accuracy :  0.24714405126776262\n"
          ]
        }
      ]
    },
    {
      "cell_type": "code",
      "metadata": {
        "id": "QoeUJEXNegYn"
      },
      "source": [
        "train_hog_features = np.load('/content/drive/MyDrive/IVC data/train_hog_features.npy')\n",
        "train_labels = np.load('/content/drive/MyDrive/IVC data/train_labels.npy')\n",
        "train_landmarks = np.load('/content/drive/MyDrive/IVC data/train_landmarks.npy')\n",
        "\n",
        "test_hog_features = np.load('/content/drive/MyDrive/IVC data/test_hog_features.npy')\n",
        "test_labels = np.load('/content/drive/MyDrive/IVC data/test_labels.npy')\n",
        "test_landmarks = np.load('/content/drive/MyDrive/IVC data/test_landmarks.npy')"
      ],
      "execution_count": null,
      "outputs": []
    },
    {
      "cell_type": "code",
      "metadata": {
        "colab": {
          "base_uri": "https://localhost:8080/"
        },
        "id": "sDdaGZrF8EPB",
        "outputId": "5d343945-bc33-4127-8beb-3aa54452fbef"
      },
      "source": [
        "X = np.hstack((train_hog_features,train_landmarks))\n",
        "np.shape(X)"
      ],
      "execution_count": null,
      "outputs": [
        {
          "output_type": "execute_result",
          "data": {
            "text/plain": [
              "(28709, 208)"
            ]
          },
          "metadata": {},
          "execution_count": 6
        }
      ]
    },
    {
      "cell_type": "code",
      "metadata": {
        "colab": {
          "base_uri": "https://localhost:8080/"
        },
        "id": "Fbf_skf19A7o",
        "outputId": "317356d0-7492-414d-8899-3a92e0f8b3ce"
      },
      "source": [
        "X_test = np.hstack((test_hog_features,test_landmarks))\n",
        "np.shape(X_test)"
      ],
      "execution_count": null,
      "outputs": [
        {
          "output_type": "execute_result",
          "data": {
            "text/plain": [
              "(7178, 208)"
            ]
          },
          "metadata": {},
          "execution_count": 7
        }
      ]
    },
    {
      "cell_type": "code",
      "metadata": {
        "colab": {
          "base_uri": "https://localhost:8080/"
        },
        "id": "XA1iJCxcfWof",
        "outputId": "610beb9b-78a5-4ea8-a7a6-969b9b3b152d"
      },
      "source": [
        "model = svm.SVC(decision_function_shape='ovo', random_state=42, max_iter=10000, kernel='rbf',gamma='auto')\n",
        "\n",
        "start_time = time()\n",
        "model.fit(train_landmarks,train_labels)\n",
        "training_time = time() - start_time\n",
        "print(\"Training time : \", training_time)\n",
        "\n",
        "# Predict\n",
        "y_pred = model.predict(test_landmarks)\n",
        "accuracy_landmarks = accuracy_score(y_pred, test_labels)\n",
        "print(\"Accuracy : \", accuracy_landmarks)\n"
      ],
      "execution_count": null,
      "outputs": [
        {
          "output_type": "stream",
          "name": "stderr",
          "text": [
            "/usr/local/lib/python3.7/dist-packages/sklearn/svm/_base.py:231: ConvergenceWarning: Solver terminated early (max_iter=10000).  Consider pre-processing your data with StandardScaler or MinMaxScaler.\n",
            "  % self.max_iter, ConvergenceWarning)\n"
          ]
        },
        {
          "output_type": "stream",
          "name": "stdout",
          "text": [
            "Training time :  450.9948446750641\n",
            "Accuracy :  0.4793814432989691\n"
          ]
        }
      ]
    },
    {
      "cell_type": "code",
      "metadata": {
        "colab": {
          "base_uri": "https://localhost:8080/"
        },
        "id": "neJzASm1gN7J",
        "outputId": "480e4483-8f41-4a75-9205-39b8a7474e16"
      },
      "source": [
        "model = svm.SVC(decision_function_shape='ovo', random_state=42, max_iter=10000, kernel='rbf',gamma='auto')\n",
        "\n",
        "start_time = time()\n",
        "X,y = shuffle(X,train_labels)\n",
        "model.fit(X,y)\n",
        "training_time = time() - start_time\n",
        "print(\"Training time : \", training_time)\n",
        "\n",
        "# Predict\n",
        "y_pred = model.predict(X_test)\n",
        "accuracy_landmarks = accuracy_score(y_pred, test_labels)\n",
        "print(\"Accuracy : \", accuracy_landmarks)"
      ],
      "execution_count": null,
      "outputs": [
        {
          "output_type": "stream",
          "name": "stderr",
          "text": [
            "/usr/local/lib/python3.7/dist-packages/sklearn/svm/_base.py:231: ConvergenceWarning: Solver terminated early (max_iter=10000).  Consider pre-processing your data with StandardScaler or MinMaxScaler.\n",
            "  % self.max_iter, ConvergenceWarning)\n"
          ]
        },
        {
          "output_type": "stream",
          "name": "stdout",
          "text": [
            "Training time :  596.456563949585\n",
            "Accuracy :  0.4896907216494845\n"
          ]
        }
      ]
    },
    {
      "cell_type": "code",
      "metadata": {
        "id": "JlxMEObhkF6Z"
      },
      "source": [
        "import pickle\n",
        "\n",
        "# save\n",
        "with open('/content/drive/MyDrive/IVC data/SVM.pkl','wb') as f:\n",
        "    pickle.dump(model,f)"
      ],
      "execution_count": null,
      "outputs": []
    },
    {
      "cell_type": "code",
      "metadata": {
        "id": "NMfjPOh7lERG"
      },
      "source": [
        "with open('/content/drive/MyDrive/IVC data/SVM.pkl','rb') as f:\n",
        "    model2 = pickle.load(f)"
      ],
      "execution_count": null,
      "outputs": []
    },
    {
      "cell_type": "code",
      "metadata": {
        "colab": {
          "base_uri": "https://localhost:8080/"
        },
        "id": "KxLIakF3lLv6",
        "outputId": "f751be71-78fd-4647-b1d4-915a01f9ec29"
      },
      "source": [
        "model.predict([X_test[0]])"
      ],
      "execution_count": null,
      "outputs": [
        {
          "output_type": "execute_result",
          "data": {
            "text/plain": [
              "array(['happy'], dtype='<U8')"
            ]
          },
          "metadata": {},
          "execution_count": 14
        }
      ]
    }
  ]
}